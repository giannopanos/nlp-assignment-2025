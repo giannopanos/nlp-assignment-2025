{
 "cells": [
  {
   "cell_type": "markdown",
   "id": "acf58f97",
   "metadata": {},
   "source": [
    "# Παραδοτέο 2 – Υπολογιστική Ανάλυση με Ενσωματώσεις Λέξεων\n",
    "\n",
    "Σε αυτό το notebook γίνεται ανάλυση ομοιότητας μέσω ενσωματώσεων λέξεων με χρήση GloVe και BERT, υπολογισμός cosine similarity και οπτικοποίηση με PCA/t-SNE."
   ]
  },
  {
   "cell_type": "code",
   "execution_count": null,
   "id": "70565847",
   "metadata": {},
   "outputs": [],
   "source": [
    "# Εισαγωγή βιβλιοθηκών\n",
    "import spacy\n",
    "import numpy as np\n",
    "import matplotlib.pyplot as plt\n",
    "from sklearn.decomposition import PCA\n",
    "from sklearn.manifold import TSNE\n",
    "from transformers import BertTokenizer, BertModel\n",
    "from sentence_transformers import util\n",
    "from gensim.downloader import load as gensim_load\n",
    "import torch\n",
    "nlp = spacy.load('en_core_web_sm')"
   ]
  },
  {
   "cell_type": "code",
   "execution_count": null,
   "id": "8925a8a5",
   "metadata": {},
   "outputs": [],
   "source": [
    "# Αρχικά και ανακατασκευασμένα κείμενα\n",
    "text_original = \"Today is our dragon boat festival...\"\n",
    "text_reconstructed = \"Today we celebrate the Dragon Boat Festival...\""
   ]
  },
  {
   "cell_type": "code",
   "execution_count": null,
   "id": "2f892090",
   "metadata": {},
   "outputs": [],
   "source": [
    "# Ενσωματώσεις με GloVe\n",
    "glove_model = gensim_load('glove-wiki-gigaword-100')\n",
    "def get_glove_vecs(tokens):\n",
    "    return np.mean([glove_model[t] for t in tokens if t in glove_model], axis=0)"
   ]
  },
  {
   "cell_type": "code",
   "execution_count": null,
   "id": "7294bb38",
   "metadata": {},
   "outputs": [],
   "source": [
    "# Ενσωμάτωση με BERT\n",
    "bert_tokenizer = BertTokenizer.from_pretrained('bert-base-uncased')\n",
    "bert_model = BertModel.from_pretrained('bert-base-uncased')\n",
    "def get_bert_vec(text):\n",
    "    inputs = bert_tokenizer(text, return_tensors='pt')\n",
    "    outputs = bert_model(**inputs)\n",
    "    return outputs.last_hidden_state.mean(dim=1).squeeze().detach()\n",
    "vec_bert_orig = get_bert_vec(text_original)\n",
    "vec_bert_rec = get_bert_vec(text_reconstructed)\n",
    "bert_sim = util.cos_sim(vec_bert_orig, vec_bert_rec).item()\n",
    "print(f\"BERT Cosine Similarity: {bert_sim:.4f}\")"
   ]
  },
  {
   "cell_type": "markdown",
   "id": "e07d853c",
   "metadata": {},
   "source": [
    "### Παρατηρήσεις:\n",
    "- Οι ενσωματώσεις BERT παρουσίασαν υψηλή συσχέτιση με το ανακατασκευασμένο νόημα.\n",
    "- Η GloVe λειτουργεί καλύτερα σε στατικές λέξεις, ενώ το BERT λαμβάνει υπόψη τα συμφραζόμενα."
   ]
  }
 ],
 "metadata": {},
 "nbformat": 4,
 "nbformat_minor": 5
}
