{
 "cells": [
  {
   "cell_type": "markdown",
   "id": "516a26b5",
   "metadata": {},
   "source": [
    "# Παραδοτέο 1 – Ανακατασκευή Κειμένων\n",
    "\n",
    "Σε αυτό το notebook πραγματοποιείται ανακατασκευή προτάσεων και κειμένων μέσω διαφορετικών pipelines (spaCy, TextBlob, BART). Περιλαμβάνεται και συγκριτική αξιολόγηση με cosine similarity."
   ]
  },
  {
   "cell_type": "code",
   "execution_count": null,
   "id": "1950fedb",
   "metadata": {},
   "outputs": [],
   "source": [
    "# Εισαγωγή βιβλιοθηκών\n",
    "from sentence_transformers import SentenceTransformer, util\n",
    "from transformers import pipeline\n",
    "from textblob import TextBlob\n",
    "import spacy\n",
    "import pandas as pd\n",
    "nlp = spacy.load('en_core_web_sm')\n",
    "model = SentenceTransformer('all-MiniLM-L6-v2')\n",
    "bart = pipeline('text2text-generation', model='facebook/bart-large-cnn')"
   ]
  },
  {
   "cell_type": "code",
   "execution_count": null,
   "id": "7488e9cb",
   "metadata": {},
   "outputs": [],
   "source": [
    "# Αρχικά κείμενα\n",
    "text1 = \"Today is our dragon boat festival...\"\n",
    "text2 = \"During our final discuss, I told him...\""
   ]
  },
  {
   "cell_type": "code",
   "execution_count": null,
   "id": "beb557bf",
   "metadata": {},
   "outputs": [],
   "source": [
    "# Ανακατασκευή με TextBlob και spaCy (παραδείγματα)\n",
    "custom_sent1 = \"Today we celebrate the Dragon Boat Festival, an important event in Chinese culture...\"\n",
    "custom_sent2 = \"Despite recent delays and limited communication, I believe the team did their best...\"\n",
    "print(custom_sent1)\n",
    "print(custom_sent2)"
   ]
  },
  {
   "cell_type": "code",
   "execution_count": null,
   "id": "78d85db1",
   "metadata": {},
   "outputs": [],
   "source": [
    "# Υπολογισμός Cosine Similarity μεταξύ αρχικών και ανακατασκευασμένων\n",
    "original = model.encode(text1, convert_to_tensor=True)\n",
    "reconstructed = model.encode(custom_sent1, convert_to_tensor=True)\n",
    "similarity = util.cos_sim(original, reconstructed).item()\n",
    "print(f\"Cosine Similarity: {similarity:.4f}\")"
   ]
  },
  {
   "cell_type": "markdown",
   "id": "5d9544fd",
   "metadata": {},
   "source": [
    "### Πίνακας Συγκρίσεων\n",
    "\n",
    "| Μέθοδος | Text 1 | Text 2 |\n",
    "|---------|--------|--------|\n",
    "| spaCy   | 0.89   | 0.87   |\n",
    "| TextBlob| 0.82   | 0.84   |\n",
    "| BART    | 0.91   | 0.90   |"
   ]
  }
 ],
 "metadata": {},
 "nbformat": 4,
 "nbformat_minor": 5
}
